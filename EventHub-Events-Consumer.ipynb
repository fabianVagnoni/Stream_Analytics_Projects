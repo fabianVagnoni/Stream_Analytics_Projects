{
  "cells": [
    {
      "cell_type": "code",
      "execution_count": 1,
      "metadata": {
        "colab": {
          "base_uri": "https://localhost:8080/"
        },
        "id": "dM4EyO1KSxAN",
        "outputId": "b8a980ff-72c7-495d-e82d-33118d321536"
      },
      "outputs": [
        {
          "name": "stdout",
          "output_type": "stream",
          "text": [
            "Collecting fastavro\n",
            "  Downloading fastavro-1.10.0-cp311-cp311-manylinux_2_17_x86_64.manylinux2014_x86_64.whl.metadata (5.5 kB)\n",
            "Collecting confluent-kafka\n",
            "  Downloading confluent_kafka-2.9.0-cp311-cp311-manylinux_2_28_x86_64.whl.metadata (22 kB)\n",
            "Downloading fastavro-1.10.0-cp311-cp311-manylinux_2_17_x86_64.manylinux2014_x86_64.whl (3.3 MB)\n",
            "\u001b[2K   \u001b[90m━━━━━━━━━━━━━━━━━━━━━━━━━━━━━━━━━━━━━━━━\u001b[0m \u001b[32m3.3/3.3 MB\u001b[0m \u001b[31m22.6 MB/s\u001b[0m eta \u001b[36m0:00:00\u001b[0m\n",
            "\u001b[?25hDownloading confluent_kafka-2.9.0-cp311-cp311-manylinux_2_28_x86_64.whl (3.8 MB)\n",
            "\u001b[2K   \u001b[90m━━━━━━━━━━━━━━━━━━━━━━━━━━━━━━━━━━━━━━━━\u001b[0m \u001b[32m3.8/3.8 MB\u001b[0m \u001b[31m19.0 MB/s\u001b[0m eta \u001b[36m0:00:00\u001b[0m\n",
            "\u001b[?25hInstalling collected packages: fastavro, confluent-kafka\n",
            "Successfully installed confluent-kafka-2.9.0 fastavro-1.10.0\n"
          ]
        }
      ],
      "source": [
        "!pip install fastavro confluent-kafka"
      ]
    },
    {
      "cell_type": "markdown",
      "metadata": {
        "id": "p0MvrQPoen0y"
      },
      "source": [
        "# Spark Setup\n",
        "\n",
        "Reference: https://spark.apache.org/docs/latest/structured-streaming-kafka-integration.html"
      ]
    },
    {
      "cell_type": "code",
      "execution_count": 2,
      "metadata": {
        "colab": {
          "base_uri": "https://localhost:8080/",
          "height": 35
        },
        "id": "WLghayLdt_dm",
        "outputId": "8f427803-7e5c-46c0-f3d4-6bc9b8945133"
      },
      "outputs": [
        {
          "data": {
            "application/vnd.google.colaboratory.intrinsic+json": {
              "type": "string"
            },
            "text/plain": [
              "'spark-3.5.5'"
            ]
          },
          "execution_count": 2,
          "metadata": {},
          "output_type": "execute_result"
        }
      ],
      "source": [
        "import os\n",
        "import subprocess\n",
        "\n",
        "# Fetch the latest Spark 3.x.x version\n",
        "# curl -s https://downloads.apache.org/spark/ → Fetches the Spark download page.\n",
        "# grep -o 'spark-3\\.[0-9]\\+\\.[0-9]\\+' → Extracts only versions that start with spark-3. (ignoring Spark 4.x if it exists in the future).\n",
        "# sort -V → Sorts the versions numerically.\n",
        "# tail -1 → Selects the latest version.\n",
        "spark_version = subprocess.run(\n",
        "    \"curl -s https://downloads.apache.org/spark/ | grep -o 'spark-3\\\\.[0-9]\\\\+\\\\.[0-9]\\\\+' | sort -V | tail -1\",\n",
        "    shell=True, capture_output=True, text=True\n",
        ").stdout.strip()\n",
        "\n",
        "spark_version"
      ]
    },
    {
      "cell_type": "code",
      "execution_count": 3,
      "metadata": {
        "id": "yUGK1pfcfdQd"
      },
      "outputs": [],
      "source": [
        "spark_release=spark_version\n",
        "hadoop_version='hadoop3'\n",
        "\n",
        "import os, time\n",
        "start=time.time()\n",
        "os.environ['SPARK_RELEASE']=spark_release\n",
        "os.environ['HADOOP_VERSION']=hadoop_version\n",
        "os.environ[\"JAVA_HOME\"] = \"/usr/lib/jvm/java-8-openjdk-amd64\"\n",
        "os.environ[\"SPARK_HOME\"] = f\"/content/{spark_release}-bin-{hadoop_version}\""
      ]
    },
    {
      "cell_type": "code",
      "execution_count": 4,
      "metadata": {
        "colab": {
          "base_uri": "https://localhost:8080/"
        },
        "id": "1Hm38TuFfdyk",
        "outputId": "945b221b-8b6a-4dad-f20b-e58b47399950"
      },
      "outputs": [
        {
          "name": "stdout",
          "output_type": "stream",
          "text": [
            "3.5.5\n"
          ]
        }
      ],
      "source": [
        "# Run below commands in google colab\n",
        "!apt-get install openjdk-8-jdk-headless -qq > /dev/null # install Java8\n",
        "!wget -q http://apache.osuosl.org/spark/${SPARK_RELEASE}/${SPARK_RELEASE}-bin-${HADOOP_VERSION}.tgz # download spark-3.3.X\n",
        "!tar xf ${SPARK_RELEASE}-bin-${HADOOP_VERSION}.tgz # unzip it\n",
        "\n",
        "!pip install -q findspark # install findspark\n",
        "# findspark find your Spark Distribution and sets necessary environment variables\n",
        "\n",
        "import findspark\n",
        "findspark.init()\n",
        "\n",
        "# Check the pyspark version\n",
        "import pyspark\n",
        "print(pyspark.__version__)"
      ]
    },
    {
      "cell_type": "markdown",
      "metadata": {
        "id": "KKK0qqktP3ya"
      },
      "source": [
        "# Define the configuration details for your Spark job:\n"
      ]
    },
    {
      "cell_type": "markdown",
      "metadata": {
        "id": "L0Arkhzxg1aZ"
      },
      "source": [
        "Create your Spark session. You must define details of the Kafka Cluster to connect to, topic name and consumer group name.\n",
        "\n",
        "- kafka_brokers: List of Kafka bootstrap servers  \n",
        "- topic_name: The Kafka topic to read messages from\n",
        "- consumer_group: This allows you to use different Spark jobs to consume the same topic messages and implement different analytics\n",
        "- schema: the AVRO schema of topic messages"
      ]
    },
    {
      "cell_type": "code",
      "execution_count": 39,
      "metadata": {
        "id": "oMRPA_3412_M"
      },
      "outputs": [],
      "source": [
        "# Define Azure credentials\n",
        "event_hub_namespace='iesstsabbadbaa-grp-01-05'\n",
        "\n",
        "rides_eventhub_name='grp04-ride-events'\n",
        "rides_consumer_eventhub_connection_str='Endpoint=sb://iesstsabbadbaa-grp-01-05.servicebus.windows.net/;SharedAccessKeyName=Consumer;SharedAccessKey=iNowxPjC+fG9CrLnklmDTAy/J1n0e9Wpe+AEhC107ys=;EntityPath=grp04-ride-events'\n",
        "\n",
        "specials_eventhub_name='grp04-special-events'\n",
        "specials_consumer_eventhub_connection_str='Endpoint=sb://iesstsabbadbaa-grp-01-05.servicebus.windows.net/;SharedAccessKeyName=Consumer;SharedAccessKey=tJYUHSWabtnBVNOhc5TgJMHz1vtPw1NqC+AEhH6h8V4=;EntityPath=grp04-special-events'"
      ]
    },
    {
      "cell_type": "code",
      "execution_count": 45,
      "metadata": {
        "id": "TBTCdSx3g-Ud"
      },
      "outputs": [],
      "source": [
        "from pyspark.sql import SparkSession\n",
        "from pyspark.sql.avro.functions import from_avro\n",
        "\n",
        "# Define the schema (from github)\n",
        "with open(\"ride_datafeed_schema.json\") as f:\n",
        "    schema = f.read()\n",
        "\n",
        "with open(\"special_events_schema.json\") as e:\n",
        "    special_schema = e.read()\n",
        "\n",
        "# Create a Spark session\n",
        "spark = SparkSession \\\n",
        "    .builder \\\n",
        "    .appName(\"StreamingAVROFromKafka\") \\\n",
        "    .config(\"spark.streaming.stopGracefullyOnShutdown\", True) \\\n",
        "    .config('spark.jars.packages', 'org.apache.spark:spark-sql-kafka-0-10_2.12:3.5.0,org.apache.spark:spark-avro_2.12:3.5.0') \\\n",
        "    .config(\"spark.sql.shuffle.partitions\", 4) \\\n",
        "    .master(\"local[*]\") \\\n",
        "    .getOrCreate()"
      ]
    },
    {
      "cell_type": "code",
      "execution_count": 46,
      "metadata": {
        "id": "TnuEZtgTgqVG"
      },
      "outputs": [],
      "source": [
        "kafkaConf_rides = {\n",
        "    \"kafka.bootstrap.servers\": f\"{event_hub_namespace}.servicebus.windows.net:9093\",\n",
        "    # Below settins required if kafka is secured, for example when connecting to Azure Event Hubs:\n",
        "    \"kafka.sasl.mechanism\": \"PLAIN\",\n",
        "    \"kafka.security.protocol\": \"SASL_SSL\",\n",
        "    \"kafka.sasl.jaas.config\": f'org.apache.kafka.common.security.plain.PlainLoginModule required username=\"$ConnectionString\" password=\"{rides_consumer_eventhub_connection_str}\";',\n",
        "\n",
        "    \"subscribe\": rides_eventhub_name,\n",
        "    \"startingOffsets\": \"earliest\", # \"latest\", \"earliest\", (by choosing earliest, you will consume all the data on the event hub immediately)\n",
        "        # by choosing \"latest\", you will consume only newly arriving data.\n",
        "\n",
        "\n",
        "\n",
        "    \"enable.auto.commit\": \"true \",\n",
        "    \"groupIdPrefix\": \"Stream_Analytics_\",\n",
        "    \"auto.commit.interval.ms\": \"5000\"\n",
        "}\n",
        "\n",
        "kafkaConf_specials = {\n",
        "    \"kafka.bootstrap.servers\": f\"{event_hub_namespace}.servicebus.windows.net:9093\",\n",
        "    # Below settins required if kafka is secured, for example when connecting to Azure Event Hubs:\n",
        "    \"kafka.sasl.mechanism\": \"PLAIN\",\n",
        "    \"kafka.security.protocol\": \"SASL_SSL\",\n",
        "    \"kafka.sasl.jaas.config\": f'org.apache.kafka.common.security.plain.PlainLoginModule required username=\"$ConnectionString\" password=\"{specials_consumer_eventhub_connection_str}\";',\n",
        "\n",
        "    \"subscribe\": specials_eventhub_name,\n",
        "    \"startingOffsets\": \"earliest\", # \"latest\", \"earliest\", (by choosing earliest, you will consume all the data on the event hub immediately)\n",
        "        # by choosing \"latest\", you will consume only newly arriving data.\n",
        "\n",
        "\n",
        "\n",
        "    \"enable.auto.commit\": \"true \",\n",
        "    \"groupIdPrefix\": \"Stream_Analytics_\",\n",
        "    \"auto.commit.interval.ms\": \"5000\"\n",
        "}\n"
      ]
    },
    {
      "cell_type": "code",
      "execution_count": 47,
      "metadata": {
        "id": "qvQ_eIvGTsQe"
      },
      "outputs": [],
      "source": [
        "# Read from Event Hub using Kafka\n",
        "df_rides = spark \\\n",
        "    .readStream \\\n",
        "    .format(\"kafka\") \\\n",
        "    .options(**kafkaConf_rides) \\\n",
        "    .load()\n",
        "\n",
        "# Deserialize the AVRO messages from the value column\n",
        "df_rides = df_rides.select(from_avro(df_rides.value, schema).alias(\"ride_events\"))\n",
        "\n",
        "# Read from Event Hub using Kafka\n",
        "df_specials = spark \\\n",
        "    .readStream \\\n",
        "    .format(\"kafka\") \\\n",
        "    .options(**kafkaConf_specials) \\\n",
        "    .load()\n",
        "\n",
        "# Deserialize the AVRO messages from the value column\n",
        "df_specials = df_specials.select(from_avro(df_specials.value, special_schema).alias(\"special_event\"))"
      ]
    },
    {
      "cell_type": "code",
      "execution_count": 48,
      "metadata": {
        "collapsed": true,
        "id": "MzrNKPETLLAg"
      },
      "outputs": [],
      "source": [
        "# Flatten the schemas\n",
        "from pyspark.sql.functions import col\n",
        "\n",
        "df_rides = df_rides.select(\n",
        "    col(\"ride_events.event_id\"),\n",
        "    col(\"ride_events.ride_id\"),\n",
        "    col(\"ride_events.event_type\"),\n",
        "    col(\"ride_events.timestamp\"),\n",
        "    col(\"ride_events.user_id\"),\n",
        "    col(\"ride_events.driver_id\"),\n",
        "\n",
        "    col(\"ride_events.pickup_location.latitude\").alias(\"pickup_latitude\"),\n",
        "    col(\"ride_events.pickup_location.longitude\").alias(\"pickup_longitude\"),\n",
        "    col(\"ride_events.pickup_location.address\").alias(\"pickup_address\"),\n",
        "    col(\"ride_events.pickup_location.city\").alias(\"pickup_city\"),\n",
        "\n",
        "    col(\"ride_events.dropoff_location.latitude\").alias(\"dropoff_latitude\"),\n",
        "    col(\"ride_events.dropoff_location.longitude\").alias(\"dropoff_longitude\"),\n",
        "    col(\"ride_events.dropoff_location.address\").alias(\"dropoff_address\"),\n",
        "    col(\"ride_events.dropoff_location.city\").alias(\"dropoff_city\"),\n",
        "\n",
        "    col(\"ride_events.ride_details.distance_km\"),\n",
        "    col(\"ride_events.ride_details.estimated_duration_minutes\"),\n",
        "    col(\"ride_events.ride_details.actual_duration_minutes\"),\n",
        "    col(\"ride_events.ride_details.vehicle_type\"),\n",
        "    col(\"ride_events.ride_details.base_fare\"),\n",
        "    col(\"ride_events.ride_details.surge_multiplier\"),\n",
        "    col(\"ride_events.ride_details.total_fare\"),\n",
        "\n",
        "    col(\"ride_events.payment_info.payment_method\"),\n",
        "    col(\"ride_events.payment_info.payment_status\"),\n",
        "    col(\"ride_events.payment_info.payment_id\"),\n",
        "\n",
        "    col(\"ride_events.ratings.user_to_driver_rating\"),\n",
        "    col(\"ride_events.ratings.driver_to_user_rating\"),\n",
        "    col(\"ride_events.ratings.user_comment\"),\n",
        "    col(\"ride_events.ratings.driver_comment\"),\n",
        "\n",
        "    col(\"ride_events.cancellation_info.canceled_by\"),\n",
        "    col(\"ride_events.cancellation_info.cancellation_reason\"),\n",
        "    col(\"ride_events.cancellation_info.cancellation_fee\"),\n",
        "\n",
        "    col(\"ride_events.traffic_conditions.traffic_level\"),\n",
        "    col(\"ride_events.traffic_conditions.estimated_delay_minutes\"),\n",
        "\n",
        "    col(\"ride_events.driver_location.latitude\").alias(\"driver_latitude\"),\n",
        "    col(\"ride_events.driver_location.longitude\").alias(\"driver_longitude\"),\n",
        "    col(\"ride_events.driver_location.heading\").alias(\"driver_heading\"),\n",
        "    col(\"ride_events.driver_location.speed_kmh\").alias(\"driver_speed_kmh\"),\n",
        "\n",
        "    col(\"ride_events.app_version\"),\n",
        "    col(\"ride_events.platform\"),\n",
        "    col(\"ride_events.session_id\")\n",
        ")\n",
        "\n",
        "df_specials = df_specials.select(\n",
        "    col(\"special_event.type\").alias(\"event_type\"),\n",
        "    col(\"special_event.name\").alias(\"event_name\"),\n",
        "    col(\"special_event.venue_zone\").alias(\"venue_zone\"),\n",
        "\n",
        "    col(\"special_event.venue_location.latitude\").alias(\"venue_latitude\"),\n",
        "    col(\"special_event.venue_location.longitude\").alias(\"venue_longitude\"),\n",
        "    col(\"special_event.venue_location.address\").alias(\"venue_address\"),\n",
        "    col(\"special_event.venue_location.city\").alias(\"venue_city\"),\n",
        "\n",
        "    col(\"special_event.event_start\").alias(\"event_start\"),\n",
        "    col(\"special_event.event_end\").alias(\"event_end\"),\n",
        "    col(\"special_event.arrivals_start\").alias(\"arrivals_start\"),\n",
        "    col(\"special_event.arrivals_end\").alias(\"arrivals_end\"),\n",
        "    col(\"special_event.departures_start\").alias(\"departures_start\"),\n",
        "    col(\"special_event.departures_end\").alias(\"departures_end\"),\n",
        "\n",
        "    col(\"special_event.arrival_rides\").alias(\"arrival_rides\"),\n",
        "    col(\"special_event.departure_rides\").alias(\"departure_rides\"),\n",
        "    col(\"special_event.estimated_attendees\").alias(\"estimated_attendees\")\n",
        ")\n",
        "\n"
      ]
    },
    {
      "cell_type": "markdown",
      "metadata": {
        "id": "im0BZXFzjgeS"
      },
      "source": [
        "# Analytical Queries"
      ]
    },
    {
      "cell_type": "markdown",
      "metadata": {
        "id": "Jx18nWfXQVBm"
      },
      "source": [
        "Your Spark job and input messages are ready to be worked on. Now, you can apply any transformations required to answer business questions.\n",
        "\n",
        "IMPORTANT NOTE: if in config you chose \"startingOffsets\": \"latest\", then you must send data AFTER running df.writeStream...\n",
        "In other words, Spark will only start 'consuming' events after you run .writeStream, meaning that it will show up as empty if no new events have been sent after running .writeStream. (For this to be a real-time analytics case, it should be set to latest, so our stats update as new data comes in. For testing purposes, easier to set it to 'earliest' cause then you just send once and can work with that)."
      ]
    },
    {
      "cell_type": "markdown",
      "metadata": {
        "id": "HNJMd8DRCc9T"
      },
      "source": [
        "## Rides Query 1"
      ]
    },
    {
      "cell_type": "code",
      "execution_count": 18,
      "metadata": {
        "id": "VEkMmi234eGt"
      },
      "outputs": [],
      "source": [
        "!mkdir checkpoint"
      ]
    },
    {
      "cell_type": "code",
      "execution_count": 49,
      "metadata": {
        "colab": {
          "base_uri": "https://localhost:8080/"
        },
        "id": "P63rtX6_JIAa",
        "outputId": "9a4a13ad-260e-44b8-fe56-8af0c0b08084"
      },
      "outputs": [
        {
          "name": "stdout",
          "output_type": "stream",
          "text": [
            "+---------+---------+-----------+\n",
            "|namespace|tableName|isTemporary|\n",
            "+---------+---------+-----------+\n",
            "|         |all_rides|       true|\n",
            "+---------+---------+-----------+\n",
            "\n"
          ]
        }
      ],
      "source": [
        "# If offset:Latest, send new events after running this cell.\n",
        "query_name='all_rides'\n",
        "query=df_rides.writeStream \\\n",
        "    .outputMode(\"update\") \\\n",
        "    .format(\"memory\") \\\n",
        "    .queryName(query_name) \\\n",
        "    .start()\n",
        "\n",
        "    # If you run this locally and change .format, you can enable checkpointing. THis will allow you to resume in case spark crashes.\n",
        "    # .option(\"checkpointLocation\", \"checkpoint\") \\  # Checkpoint not valid for memory\n",
        "    #.option(\"path\", \"/checkpoint/\") \\\n",
        "\n",
        "spark.sql('show tables').show()"
      ]
    },
    {
      "cell_type": "code",
      "execution_count": 50,
      "metadata": {
        "colab": {
          "base_uri": "https://localhost:8080/"
        },
        "id": "1Tm86HWwUVw1",
        "outputId": "2055b7dd-d362-4663-d070-018942672d9f"
      },
      "outputs": [
        {
          "data": {
            "text/plain": [
              "{'message': 'Getting offsets from KafkaV2[Subscribe[grp04-ride-events]]',\n",
              " 'isDataAvailable': False,\n",
              " 'isTriggerActive': True}"
            ]
          },
          "execution_count": 50,
          "metadata": {},
          "output_type": "execute_result"
        }
      ],
      "source": [
        "# Status either \"Processing new data\" or \"Getting offsets from...\"\n",
        "query.status"
      ]
    },
    {
      "cell_type": "code",
      "execution_count": 51,
      "metadata": {
        "colab": {
          "base_uri": "https://localhost:8080/"
        },
        "id": "yKUE42QTUELo",
        "outputId": "13237361-7744-43b8-a140-f80357b5adba"
      },
      "outputs": [
        {
          "name": "stdout",
          "output_type": "stream",
          "text": [
            "+------------+\n",
            "|record_count|\n",
            "+------------+\n",
            "|        1542|\n",
            "+------------+\n",
            "\n",
            "None\n"
          ]
        }
      ],
      "source": [
        "print(spark.sql(f'SELECT count(*) as record_count FROM {query_name}').show(20, truncate=True))"
      ]
    },
    {
      "cell_type": "code",
      "execution_count": 52,
      "metadata": {
        "colab": {
          "base_uri": "https://localhost:8080/"
        },
        "id": "1TubCWjP0Dlb",
        "outputId": "39377715-7ae1-4876-bf5d-7a4d692f81af"
      },
      "outputs": [
        {
          "name": "stdout",
          "output_type": "stream",
          "text": [
            "+--------------+------------+-----------------+--------------------+-------+---------+------------------+-------------------+--------------------+-----------+------------------+-------------------+--------------------+------------+-----------+--------------------------+-----------------------+------------+---------+----------------+----------+--------------+--------------+------------+---------------------+---------------------+--------------------+--------------------+-----------+-------------------+----------------+-------------+-----------------------+---------------+----------------+--------------+----------------+-----------+--------+----------+\n",
            "|      event_id|     ride_id|       event_type|           timestamp|user_id|driver_id|   pickup_latitude|   pickup_longitude|      pickup_address|pickup_city|  dropoff_latitude|  dropoff_longitude|     dropoff_address|dropoff_city|distance_km|estimated_duration_minutes|actual_duration_minutes|vehicle_type|base_fare|surge_multiplier|total_fare|payment_method|payment_status|  payment_id|user_to_driver_rating|driver_to_user_rating|        user_comment|      driver_comment|canceled_by|cancellation_reason|cancellation_fee|traffic_level|estimated_delay_minutes|driver_latitude|driver_longitude|driver_heading|driver_speed_kmh|app_version|platform|session_id|\n",
            "+--------------+------------+-----------------+--------------------+-------+---------+------------------+-------------------+--------------------+-----------+------------------+-------------------+--------------------+------------+-----------+--------------------------+-----------------------+------------+---------+----------------+----------+--------------+--------------+------------+---------------------+---------------------+--------------------+--------------------+-----------+-------------------+----------------+-------------+-----------------------+---------------+----------------+--------------+----------------+-----------+--------+----------+\n",
            "|0d321c554870_8|R-7c68dad063|DRIVER_RATED_USER|2025-01-01 00:50:...|U000071|  D000049|   40.416844542245|-3.7038394081457104|238 Calle de Prec...|     Madrid| 40.42557652899072|-3.6823619116021566|8725 Calle de Cla...|      Madrid|  2.0611463|                        17|                      3|     Economy|     7.47|             1.0|      7.47|          CARD|     COMPLETED|P-d80bffdfe8|                  5.0|                  5.0|On time and effic...|                NULL|       NULL|               NULL|            NULL|          LOW|                      0|           NULL|            NULL|          NULL|            NULL|      4.5.2|     iOS|S-7175b504|\n",
            "|8ff735bbe7cf_8|R-11906578d0|DRIVER_RATED_USER|2024-12-31 23:37:...|U000003|  D000009| 40.41680339069986|-3.7036914949070496|7508 Calle de Pre...|     Madrid| 40.42557240576143|-3.6823975421797575|2085 Calle de Cla...|      Madrid|    2.04941|                        16|                      4|     Premium|    16.41|             1.0|     16.41|          CARD|     COMPLETED|P-d4859e3b8c|                  5.0|                  5.0|Very friendly and...|                NULL|       NULL|               NULL|            NULL|          LOW|                      0|           NULL|            NULL|          NULL|            NULL|      4.5.2|     iOS|S-ca71f352|\n",
            "|11c5dc5fbf00_8|R-c1e6fe2a01|DRIVER_RATED_USER|2024-12-31 23:26:...|U000024|  D000001|40.461475167655976|-3.6766329018645294|1683 Calle de Doc...|     Madrid| 40.42563252462874|-3.6822829265175514|9982 Calle de Cla...|      Madrid|   4.014097|                        16|                      8|     Economy|     9.82|             1.0|      9.82|          CARD|     COMPLETED|P-69d514ae98|                  5.0|                  5.0|  Excellent service!|                NULL|       NULL|               NULL|            NULL|          LOW|                      0|           NULL|            NULL|          NULL|            NULL|      4.6.0|     iOS|S-7894cb8a|\n",
            "|ed5610fbae4e_8|R-c3cca62ff5|DRIVER_RATED_USER|2025-01-01 01:37:...|U000059|  D000013| 40.41672022829501| -3.703970962543377|  8431 Plaza del Sol|     Madrid| 40.46161946263482|-3.6764661615939396|2382 Calle de Alb...|      Madrid|   5.508543|                        21|                     15|     Premium|    25.54|             1.0|     25.54|          CARD|     COMPLETED|P-294ae2e1c6|                  1.9|                  5.0|                NULL|Very polite and o...|       NULL|               NULL|            NULL|       MEDIUM|                     12|           NULL|            NULL|          NULL|            NULL|      4.5.1| Android|S-8082c497|\n",
            "|a380c9b85602_8|R-f90291b062|DRIVER_RATED_USER|2025-01-01 01:45:...|U000043|  D000049| 40.42647131968984|-3.7024991780376015|1733 Calle de San...|     Madrid| 40.41444254925312| -3.686804933266478| 7476 Calle de Ibiza|      Madrid|  1.8852354|                        12|                      3|     Comfort|    10.89|             1.0|     10.89|          CASH|     COMPLETED|P-a01d76e56c|                  5.0|                 2.93|                NULL|                NULL|       NULL|               NULL|            NULL|          LOW|                      0|           NULL|            NULL|          NULL|            NULL|      4.5.1|     iOS|S-2f2f0b17|\n",
            "|53e3695ad199_8|R-b22eebccc2|DRIVER_RATED_USER|2025-01-01 01:39:...|U000038|  D000008|40.416873905539994|-3.7039866019025514|2607 Calle de Pre...|     Madrid| 40.42569712299998|-3.6823225786644995|6147 Calle de Cla...|      Madrid|   2.079852|                        18|                      4|          XL|    13.49|             1.0|     13.49|          CARD|     COMPLETED|P-8e93958327|                  5.0|                  5.0|Very friendly and...|                NULL|       NULL|               NULL|            NULL|          LOW|                      0|           NULL|            NULL|          NULL|            NULL|      4.6.0| Android|S-33733c47|\n",
            "|dda2957d9867_8|R-9fe1bb9bb6|DRIVER_RATED_USER|2025-01-02 00:51:...|U000027|  D000027| 40.41684644524722|-3.7037435483585743|  9037 Plaza del Sol|     Madrid| 40.41462882933886| -3.686755625040069|5831 Calle de Men...|      Madrid|  1.4591738|                         9|                      2|     Economy|     6.75|             1.0|      6.75|          CARD|     COMPLETED|P-5ecdf8d67b|                 4.05|                  2.0|                NULL|                NULL|       NULL|               NULL|            NULL|          LOW|                      0|           NULL|            NULL|          NULL|            NULL|      4.5.2|     iOS|S-43532bee|\n",
            "|fea778d8c80d_8|R-472a34415a|DRIVER_RATED_USER|2025-01-01 13:26:...|U000027|  D000049| 40.41671024307825| -3.703934840991396|    3749 Calle Mayor|     Madrid| 40.41461661130365| -3.686901282604291|3133 Calle del Al...|      Madrid|  1.4607229|                        11|                      3|          XL|    12.16|             1.0|     12.16|          CASH|     COMPLETED|P-821e3204ab|                  4.3|                  4.5|                NULL|      Perfect rider!|       NULL|               NULL|            NULL|          LOW|                      0|           NULL|            NULL|          NULL|            NULL|      4.6.1|     iOS|S-2dcf18c8|\n",
            "|1b5394ac7861_7|R-e1e8f36cbe|DRIVER_RATED_USER|2025-01-01 02:06:...|U000091|  D000045|40.425642198320894| -3.682270777319752|1702 Calle de Ser...|     Madrid| 40.42551678812443| -3.682207603236779|4912 Calle de Ser...|      Madrid| 0.01493513|                         7|                      0|     Economy|     5.02|             1.0|      5.02|          CARD|     COMPLETED|P-52b9c441ce|                 NULL|                 3.33|                NULL|                NULL|       NULL|               NULL|            NULL|          LOW|                      0|           NULL|            NULL|          NULL|            NULL|      4.7.0| Android|S-b564de31|\n",
            "|e7fedea6a517_8|R-2b19fb315b|DRIVER_RATED_USER|2025-01-01 02:01:...|U000038|  D000016| 40.40850279582958|-3.7023962305751272|1518 Calle de Lav...|     Madrid| 40.46153387117796|-3.6766946822819824|1617 Paseo de la ...|      Madrid|  6.2852063|                        21|                     13|     Economy|    12.54|             1.0|     12.54|          CARD|     COMPLETED|P-852f414b65|                  5.0|                  5.0|                NULL|                NULL|       NULL|               NULL|            NULL|          LOW|                      0|           NULL|            NULL|          NULL|            NULL|      4.5.1| Android|S-f333a9b8|\n",
            "|e720c1ccae56_8|R-95ddaa3ce2|DRIVER_RATED_USER|2025-01-01 05:43:...|U000017|  D000022|40.461510514689735|-3.6767040507322366|4700 Calle de Pad...|     Madrid| 40.46149491128024| -3.676660585262592|4392 Paseo de la ...|      Madrid|0.004066019|                         5|                      0|     Comfort|     7.51|             1.0|      7.51|          CARD|     COMPLETED|P-3ec19a5a5e|                 4.25|                  5.0|                NULL|                NULL|       NULL|               NULL|            NULL|       MEDIUM|                      9|           NULL|            NULL|          NULL|            NULL|      4.7.0| Android|S-e1bb8786|\n",
            "|b7df635493c6_8|R-95a2864c7f|DRIVER_RATED_USER|2025-01-01 19:53:...|U000074|  D000027|40.414587182869134|-3.6867647145672002|7669 Calle del Al...|     Madrid|40.425577285165666|-3.6823386510037777|711 Calle de Clau...|      Madrid|  1.2781935|                        17|                      2|          XL|    11.76|             1.0|     11.76|          CARD|     COMPLETED|P-ff068c5830|                  5.0|                  5.0|Very friendly and...|                NULL|       NULL|               NULL|            NULL|          LOW|                      0|           NULL|            NULL|          NULL|            NULL|      4.7.0| Android|S-11719790|\n",
            "|da5f47900d2d_8|R-3e4dbb4a23|DRIVER_RATED_USER|2025-01-01 01:30:...|U000030|  D000039| 40.41691754022158| -3.703788231086079|    8994 Calle Mayor|     Madrid|40.408496224642924|-3.7024343857162845|4280 Calle de Lav...|      Madrid| 0.94339657|                        14|                      2|     Comfort|      9.2|             1.0|       9.2|          CARD|     COMPLETED|P-356769624b|                  5.0|                  5.0|                NULL|                NULL|       NULL|               NULL|            NULL|          LOW|                      0|           NULL|            NULL|          NULL|            NULL|      4.7.0|     iOS|S-f6691ec7|\n",
            "|5f92f51ce503_7|R-1c72120488|DRIVER_RATED_USER|2025-01-01 02:53:...|U000027|  D000039| 40.49813156402816| -3.567537260341518|Aeropuerto Madrid...|     Madrid| 40.42550916464936|-3.6823254546864246|5521 Calle de Ort...|      Madrid|  12.630031|                        39|                     31|     Premium|    44.34|             1.0|     44.34|          CARD|     COMPLETED|P-d0bc38ea00|                 NULL|                  5.0|                NULL|                NULL|       NULL|               NULL|            NULL|          LOW|                      0|           NULL|            NULL|          NULL|            NULL|      4.7.0|     iOS|S-fe29baa1|\n",
            "|35dfaebc80b7_7|R-13842721de|DRIVER_RATED_USER|2025-01-01 02:54:...|U000066|  D000036|40.416758410679904|-3.7039206848962514|  1184 Plaza del Sol|     Madrid| 40.41685950407968|  -3.70391434927765|  98 Calle de Alcala|      Madrid|0.011253862|                        15|                      0|          XL|     9.02|             1.0|      9.02|          CARD|     COMPLETED|P-a88e565f76|                 NULL|                  5.0|                NULL|                NULL|       NULL|               NULL|            NULL|          LOW|                      0|           NULL|            NULL|          NULL|            NULL|      4.7.0|     iOS|S-13fd4eee|\n",
            "|b40fa9e008cf_8|R-6681a26f79|DRIVER_RATED_USER|2025-01-01 03:48:...|U000052|  D000031| 40.40838642387843| -3.702430133247495|2459 Calle de Emb...|     Madrid| 40.41691871858623|-3.7038918036135136| 3307 Calle Gran Via|      Madrid|  0.9567845|                         8|                      1|     Comfort|     9.22|             1.0|      9.22|          CARD|     COMPLETED|P-3f930c8f7e|                 4.05|                  4.0|                NULL|                NULL|       NULL|               NULL|            NULL|          LOW|                      0|           NULL|            NULL|          NULL|            NULL|      4.5.1|     iOS|S-fac1675e|\n",
            "|23429e7782a2_7|R-f0b7b2fa0b|DRIVER_RATED_USER|2025-01-01 05:14:...|U000009|  D000011| 40.49819853353642| -3.567774788081831|Aeropuerto Madrid...|     Madrid|40.414492294707365|-3.6868131243286992|6025 Calle de O'D...|      Madrid| 13.7139015|                        34|                     35|     Comfort|    32.19|             1.0|     32.19|          CARD|     COMPLETED|P-4538e366fc|                 NULL|                  5.0|                NULL|                NULL|       NULL|               NULL|            NULL|          LOW|                      0|           NULL|            NULL|          NULL|            NULL|      4.7.0|     iOS|S-2e5826e9|\n",
            "|05f4bd092ca7_8|R-021e3f0e1e|DRIVER_RATED_USER|2025-01-01 05:01:...|U000074|  D000014| 40.49842287943537|-3.5678714073740685|Terminal 5103 Sal...|     Madrid| 40.41455125603693|-3.6866482982023285|7872 Calle del Al...|      Madrid|  13.710152|                        39|                     37|     Comfort|    32.18|             1.0|     32.18|          CARD|     COMPLETED|P-8526a071ae|                 4.15|                  5.0|                NULL|                NULL|       NULL|               NULL|            NULL|          LOW|                      0|           NULL|            NULL|          NULL|            NULL|      4.7.0| Android|S-655b4726|\n",
            "|74464db031e0_8|R-29069f497a|DRIVER_RATED_USER|2025-01-01 10:12:...|U000086|  D000012| 40.41678053201778| -3.703813753404029|  7368 Plaza del Sol|     Madrid| 40.41688476026431| -3.703699839230704|    4685 Calle Mayor|      Madrid|0.015077199|                        10|                      0|     Premium|    11.04|             1.0|     11.04|          CARD|     COMPLETED|P-f66a4ad8c7|                  5.0|                  4.0|                NULL|                NULL|       NULL|               NULL|            NULL|       MEDIUM|                     15|           NULL|            NULL|          NULL|            NULL|      4.7.0|     iOS|S-152df0e6|\n",
            "|a84e349ffa49_8|R-c79856a4cc|DRIVER_RATED_USER|2025-01-01 21:47:...|U000021|  D000045| 40.49836928641966|-3.5676676804366965|Aeropuerto Madrid...|     Madrid|  40.4981784707878| -3.567464479763009|Terminal 5155 - B...|      Madrid|0.027302084|                         9|                      0|     Comfort|     7.55|             1.0|      7.55|          CARD|     COMPLETED|P-2dc79d5780|                  2.3|                  5.0|                NULL|                NULL|       NULL|               NULL|            NULL|       SEVERE|                     46|           NULL|            NULL|          NULL|            NULL|      4.6.2| Android|S-1ae75625|\n",
            "+--------------+------------+-----------------+--------------------+-------+---------+------------------+-------------------+--------------------+-----------+------------------+-------------------+--------------------+------------+-----------+--------------------------+-----------------------+------------+---------+----------------+----------+--------------+--------------+------------+---------------------+---------------------+--------------------+--------------------+-----------+-------------------+----------------+-------------+-----------------------+---------------+----------------+--------------+----------------+-----------+--------+----------+\n",
            "only showing top 20 rows\n",
            "\n",
            "None\n"
          ]
        }
      ],
      "source": [
        "print(spark.sql(f'SELECT * FROM {query_name}').show(20, truncate=True))"
      ]
    },
    {
      "cell_type": "markdown",
      "metadata": {
        "id": "zfiKl4dbCf_y"
      },
      "source": [
        "## Rides Query 2"
      ]
    },
    {
      "cell_type": "code",
      "execution_count": 53,
      "metadata": {
        "colab": {
          "base_uri": "https://localhost:8080/"
        },
        "id": "uTcbz8yTifqS",
        "outputId": "8f396cc8-1fb5-490b-ea23-24bb751a4697"
      },
      "outputs": [
        {
          "name": "stdout",
          "output_type": "stream",
          "text": [
            "+---------+---------------+-----------+\n",
            "|namespace|      tableName|isTemporary|\n",
            "+---------+---------------+-----------+\n",
            "|         |      all_rides|       true|\n",
            "|         |requested_rides|       true|\n",
            "+---------+---------------+-----------+\n",
            "\n"
          ]
        }
      ],
      "source": [
        "# Filter the records by event_type\n",
        "requested_rides_df = df_rides.filter((df_rides.event_type == \"RIDE_REQUESTED\"))\n",
        "\n",
        "\n",
        "# Display the filtered records in the console\n",
        "query_name='requested_rides'\n",
        "query=requested_rides_df.writeStream \\\n",
        "    .outputMode(\"update\") \\\n",
        "    .format(\"memory\") \\\n",
        "    .queryName(query_name) \\\n",
        "    .start()\n",
        "\n",
        "    # If you run this locally and change .format, you can enable checkpointing. THis will allow you to resume in case spark crashes.\n",
        "    # .option(\"checkpointLocation\", \"checkpoint\") \\  # Checkpoint not valid for memory\n",
        "    #.option(\"path\", \"/checkpoint/\") \\\n",
        "\n",
        "spark.sql('show tables').show()"
      ]
    },
    {
      "cell_type": "code",
      "execution_count": 55,
      "metadata": {
        "colab": {
          "base_uri": "https://localhost:8080/"
        },
        "id": "7jMuc-v2DZQK",
        "outputId": "35f95640-1e3d-4187-c690-310f29504d80"
      },
      "outputs": [
        {
          "data": {
            "text/plain": [
              "{'message': 'Getting offsets from KafkaV2[Subscribe[grp04-ride-events]]',\n",
              " 'isDataAvailable': False,\n",
              " 'isTriggerActive': True}"
            ]
          },
          "execution_count": 55,
          "metadata": {},
          "output_type": "execute_result"
        }
      ],
      "source": [
        "query.status"
      ]
    },
    {
      "cell_type": "code",
      "execution_count": 56,
      "metadata": {
        "colab": {
          "base_uri": "https://localhost:8080/"
        },
        "id": "KaJt11EI4Dmp",
        "outputId": "dc1de581-617f-4fa4-f0d3-331b9f5eb74a"
      },
      "outputs": [
        {
          "name": "stdout",
          "output_type": "stream",
          "text": [
            "+--------------+------------+--------------+--------------------+-------+---------+------------------+-------------------+--------------------+-----------+------------------+-------------------+--------------------+------------+-----------+--------------------------+-----------------------+------------+---------+----------------+----------+--------------+--------------+----------+---------------------+---------------------+------------+--------------+-----------+-------------------+----------------+-------------+-----------------------+---------------+----------------+--------------+----------------+-----------+--------+----------+\n",
            "|      event_id|     ride_id|    event_type|           timestamp|user_id|driver_id|   pickup_latitude|   pickup_longitude|      pickup_address|pickup_city|  dropoff_latitude|  dropoff_longitude|     dropoff_address|dropoff_city|distance_km|estimated_duration_minutes|actual_duration_minutes|vehicle_type|base_fare|surge_multiplier|total_fare|payment_method|payment_status|payment_id|user_to_driver_rating|driver_to_user_rating|user_comment|driver_comment|canceled_by|cancellation_reason|cancellation_fee|traffic_level|estimated_delay_minutes|driver_latitude|driver_longitude|driver_heading|driver_speed_kmh|app_version|platform|session_id|\n",
            "+--------------+------------+--------------+--------------------+-------+---------+------------------+-------------------+--------------------+-----------+------------------+-------------------+--------------------+------------+-----------+--------------------------+-----------------------+------------+---------+----------------+----------+--------------+--------------+----------+---------------------+---------------------+------------+--------------+-----------+-------------------+----------------+-------------+-----------------------+---------------+----------------+--------------+----------------+-----------+--------+----------+\n",
            "|cdd7f1173fa1_1|R-58a3a14593|RIDE_REQUESTED|2024-12-31 23:28:...|U000040|     NULL|40.414608015761885| -3.686628542050526|3480 Calle del Al...|     Madrid| 40.40843352023172| -3.702329395481156|6235 Calle de Lav...|      Madrid|  1.4961424|                        13|                   NULL|     Premium|    14.95|             1.0|     14.95|          NULL|          NULL|      NULL|                 NULL|                 NULL|        NULL|          NULL|       NULL|               NULL|            NULL|          LOW|                      0|           NULL|            NULL|          NULL|            NULL|      4.6.0|     iOS|S-9fc9e840|\n",
            "|70f928ed41c2_1|R-164571b9b8|RIDE_REQUESTED|2024-12-31 23:58:...|U000066|     NULL| 40.41672527820614|-3.7036594432868295| 3624 Calle Gran Via|     Madrid|40.416937037124626|-3.7037708096786255|    2608 Calle Mayor|      Madrid|0.025363887|                        10|                   NULL|     Comfort|     7.55|             1.0|      7.55|          NULL|          NULL|      NULL|                 NULL|                 NULL|        NULL|          NULL|       NULL|               NULL|            NULL|          LOW|                      0|           NULL|            NULL|          NULL|            NULL|      4.6.0|     iOS|S-fce5555c|\n",
            "|fa0fb011d6eb_1|R-6204c15940|RIDE_REQUESTED|2024-12-31 23:59:...|U000076|     NULL| 40.41683274359096| -3.703722025793107| 747 Calle de Alcala|     Madrid|  40.4264527802979|-3.7025002313390005|6011 Calle de Fue...|      Madrid|  1.0746877|                        11|                   NULL|          XL|    11.32|             1.0|     11.32|          NULL|          NULL|      NULL|                 NULL|                 NULL|        NULL|          NULL|       NULL|               NULL|            NULL|          LOW|                      0|           NULL|            NULL|          NULL|            NULL|      4.6.2| Android|S-44baf2a6|\n",
            "|cb7cdf1ba81f_1|R-ffc2ba2dd0|RIDE_REQUESTED|2024-12-31 23:10:...|U000059|     NULL| 40.42561969078339| -3.682377733424735|3053 Calle de Ser...|     Madrid| 40.42571984233899| -3.682277377598064|6142 Calle de Vel...|      Madrid|0.014006426|                         5|                   NULL|     Economy|     5.02|             1.0|      5.02|          NULL|          NULL|      NULL|                 NULL|                 NULL|        NULL|          NULL|       NULL|               NULL|            NULL|          LOW|                      0|           NULL|            NULL|          NULL|            NULL|      4.6.2| Android|S-92ba80e8|\n",
            "|ca5f60214a39_1|R-9657d9690b|RIDE_REQUESTED|2024-12-31 23:53:...|U000097|     NULL|40.416827472723156|-3.7036338328831944|   221 Plaza del Sol|     Madrid| 40.41667009630095| -3.703769440379806|  2496 Plaza del Sol|      Madrid|0.020929115|                         5|                   NULL|          XL|     9.05|             1.0|      9.05|          NULL|          NULL|      NULL|                 NULL|                 NULL|        NULL|          NULL|       NULL|               NULL|            NULL|          LOW|                      0|           NULL|            NULL|          NULL|            NULL|      4.7.0| Android|S-b692207c|\n",
            "|c235077e78a2_1|R-b8ceb3e900|RIDE_REQUESTED|2024-12-31 23:28:...|U000058|     NULL| 40.42571773174704| -3.682261052566606|1429 Calle de Cla...|     Madrid| 40.41472057460584|  -3.68692835586534|4871 Calle del Al...|      Madrid|  1.2850745|                        12|                   NULL|     Economy|     6.54|             1.0|      6.54|          NULL|          NULL|      NULL|                 NULL|                 NULL|        NULL|          NULL|       NULL|               NULL|            NULL|          LOW|                      0|           NULL|            NULL|          NULL|            NULL|      4.5.1|     iOS|S-839f4e8e|\n",
            "|974299deac73_1|R-d54bf47662|RIDE_REQUESTED|2024-12-31 23:50:...|U000013|     NULL| 40.41671630869766|-3.7037582730349956|    6127 Calle Mayor|     Madrid|40.416722545223884|-3.7038940000791256|    6980 Calle Mayor|      Madrid|0.011511309|                        10|                   NULL|     Comfort|     7.52|             1.0|      7.52|          NULL|          NULL|      NULL|                 NULL|                 NULL|        NULL|          NULL|       NULL|               NULL|            NULL|          LOW|                      0|           NULL|            NULL|          NULL|            NULL|      4.7.0| Android|S-d0cecd20|\n",
            "|7779ab0791dc_1|R-0140d32a54|RIDE_REQUESTED|2024-12-31 23:22:...|U000098|     NULL|40.408547508292095| -3.702439785360563|1577 Calle del Av...|     Madrid| 40.42567571521993|-3.6823814207351755|  5586 Calle de Goya|      Madrid|  2.5516486|                        13|                   NULL|     Comfort|    12.09|             1.0|     12.09|          NULL|          NULL|      NULL|                 NULL|                 NULL|        NULL|          NULL|       NULL|               NULL|            NULL|          LOW|                      0|           NULL|            NULL|          NULL|            NULL|      4.5.0| Android|S-27a07f44|\n",
            "|337fc61844a7_1|R-54763fc2b2|RIDE_REQUESTED|2024-12-31 23:07:...|U000011|     NULL| 40.42641232212093| -3.702588747719978|7967 Calle de Fue...|     Madrid| 40.42653371128679| -3.702615524135835|1907 Calle de San...|      Madrid|0.013686829|                         7|                   NULL|          XL|     9.03|             1.0|      9.03|          NULL|          NULL|      NULL|                 NULL|                 NULL|        NULL|          NULL|       NULL|               NULL|            NULL|          LOW|                      0|           NULL|            NULL|          NULL|            NULL|      4.6.2| Android|S-61598568|\n",
            "|9a186b23020b_1|R-93ed10288b|RIDE_REQUESTED|2024-12-31 23:05:...|U000032|     NULL| 40.40861347475212| -3.702447755284092|4874 Calle de Arg...|     Madrid|40.425640903502945| -3.682175272738437|9911 Calle de Vel...|      Madrid|  2.5554333|                        10|                   NULL|     Premium|    17.75|             1.0|     17.75|          NULL|          NULL|      NULL|                 NULL|                 NULL|        NULL|          NULL|       NULL|               NULL|            NULL|          LOW|                      0|           NULL|            NULL|          NULL|            NULL|      4.6.0| Android|S-3a946c22|\n",
            "|8c1df212190f_1|R-08a89cb630|RIDE_REQUESTED|2024-12-31 23:03:...|U000062|     NULL|40.408539421555616|-3.7023809247288244|2471 Calle del Av...|     Madrid| 40.40842550146608| -3.702490444197104|7084 Calle de Arg...|      Madrid|0.015698636|                         7|                   NULL|          XL|     9.03|             1.0|      9.03|          NULL|          NULL|      NULL|                 NULL|                 NULL|        NULL|          NULL|       NULL|               NULL|            NULL|          LOW|                      0|           NULL|            NULL|          NULL|            NULL|      4.7.0|     iOS|S-b1b4bf65|\n",
            "|cfa7052206c5_1|R-e79cf6740a|RIDE_REQUESTED|2024-12-31 23:35:...|U000076|     NULL|40.408595977299754| -3.702364964856345|3927 Calle de Arg...|     Madrid| 40.40849288047565|-3.7024671610635633|469 Calle de Lava...|      Madrid|0.014362819|                        13|                   NULL|     Economy|     5.02|             1.0|      5.02|          NULL|          NULL|      NULL|                 NULL|                 NULL|        NULL|          NULL|       NULL|               NULL|            NULL|          LOW|                      0|           NULL|            NULL|          NULL|            NULL|      4.6.0| Android|S-aaa14148|\n",
            "|184d5242be15_1|R-844a96884b|RIDE_REQUESTED|2024-12-31 23:44:...|U000071|     NULL|  40.4255014658128|-3.6822334302838273|5172 Calle de Vel...|     Madrid|40.425521406352956|-3.6823553818482204|6328 Calle de Cla...|      Madrid|0.010558291|                        13|                   NULL|     Premium|    11.03|             1.0|     11.03|          NULL|          NULL|      NULL|                 NULL|                 NULL|        NULL|          NULL|       NULL|               NULL|            NULL|          LOW|                      0|           NULL|            NULL|          NULL|            NULL|      4.6.1|     iOS|S-2a6f6b15|\n",
            "|8f4262fb2580_1|R-f72f94aa0b|RIDE_REQUESTED|2024-12-31 23:28:...|U000075|     NULL| 40.46142216999177|-3.6767013506513653|7153 Calle de Alb...|     Madrid| 40.46161543622146|-3.6765692672483405|8396 Calle de Alb...|      Madrid| 0.02422187|                         7|                   NULL|     Comfort|     7.54|             1.0|      7.54|          NULL|          NULL|      NULL|                 NULL|                 NULL|        NULL|          NULL|       NULL|               NULL|            NULL|       MEDIUM|                     13|           NULL|            NULL|          NULL|            NULL|      4.6.1|     iOS|S-c3bdc51a|\n",
            "|19789f16153f_1|R-f1d653f8dc|RIDE_REQUESTED|2024-12-31 23:52:...|U000066|     NULL| 40.42655436156158| -3.702499107632897|7282 Calle de Fue...|     Madrid| 40.41685539188688|-3.7038061376663505|2216 Calle de Pre...|      Madrid|  1.0841368|                        17|                   NULL|     Comfort|     9.45|             1.0|      9.45|          NULL|          NULL|      NULL|                 NULL|                 NULL|        NULL|          NULL|       NULL|               NULL|            NULL|          LOW|                      0|           NULL|            NULL|          NULL|            NULL|      4.6.1|     iOS|S-e503a033|\n",
            "|14bfee71b233_1|R-2902c3bcea|RIDE_REQUESTED|2024-12-31 23:18:...|U000072|     NULL| 40.46158465778349|-3.6765336571694474|9351 Paseo de la ...|     Madrid| 40.46148490600891|-3.6764599930675437|137 Calle de Albe...|      Madrid|0.012722786|                        14|                   NULL|     Economy|     5.02|             1.0|      5.02|          NULL|          NULL|      NULL|                 NULL|                 NULL|        NULL|          NULL|       NULL|               NULL|            NULL|          LOW|                      0|           NULL|            NULL|          NULL|            NULL|      4.6.1|     iOS|S-6f90a30d|\n",
            "|5d5763b6c111_1|R-88e0a92d15|RIDE_REQUESTED|2024-12-31 23:44:...|U000077|     NULL| 40.41664101793103|-3.7037895252414836|    1638 Calle Mayor|     Madrid|40.414670985144994| -3.686792526208134|6771 Calle de Men...|      Madrid|  1.4555359|                        13|                   NULL|     Economy|     6.75|             1.0|      6.75|          NULL|          NULL|      NULL|                 NULL|                 NULL|        NULL|          NULL|       NULL|               NULL|            NULL|          LOW|                      0|           NULL|            NULL|          NULL|            NULL|      4.7.0| Android|S-e474792e|\n",
            "|a71807e6ad46_1|R-a2c415f996|RIDE_REQUESTED|2024-12-31 23:17:...|U000021|     NULL|40.426517689760864|-3.7025709578299213|2925 Calle del Es...|     Madrid| 40.42644330663925|-3.7025005086213674|  1900 Calle del Pez|      Madrid| 0.01019657|                         5|                   NULL|     Comfort|     7.52|             1.0|      7.52|          NULL|          NULL|      NULL|                 NULL|                 NULL|        NULL|          NULL|       NULL|               NULL|            NULL|          LOW|                      0|           NULL|            NULL|          NULL|            NULL|      4.7.0| Android|S-eb829e51|\n",
            "|94d9baab9969_1|R-2318aa7d8c|RIDE_REQUESTED|2024-12-31 23:24:...|U000030|     NULL|40.461509292538274|-3.6767376806554317|5132 Calle de Mat...|     Madrid|40.414612603251584|-3.6866998511807583|6275 Calle de Nar...|      Madrid|  5.2823915|                        20|                   NULL|     Economy|    11.34|             1.0|     11.34|          NULL|          NULL|      NULL|                 NULL|                 NULL|        NULL|          NULL|       NULL|               NULL|            NULL|          LOW|                      0|           NULL|            NULL|          NULL|            NULL|      4.6.0|     iOS|S-365c8d10|\n",
            "|51b1384a8156_1|R-45581a6b1a|RIDE_REQUESTED|2024-12-31 23:20:...|U000066|     NULL| 40.40838418742955| -3.702437373290759|5698 Calle de Lav...|     Madrid| 40.40848666258725|-3.7022502647388893|1650 Calle de Val...|      Madrid|0.019514492|                         8|                   NULL|     Comfort|     7.54|             1.0|      7.54|          NULL|          NULL|      NULL|                 NULL|                 NULL|        NULL|          NULL|       NULL|               NULL|            NULL|          LOW|                      0|           NULL|            NULL|          NULL|            NULL|      4.6.0|     iOS|S-c1025f64|\n",
            "+--------------+------------+--------------+--------------------+-------+---------+------------------+-------------------+--------------------+-----------+------------------+-------------------+--------------------+------------+-----------+--------------------------+-----------------------+------------+---------+----------------+----------+--------------+--------------+----------+---------------------+---------------------+------------+--------------+-----------+-------------------+----------------+-------------+-----------------------+---------------+----------------+--------------+----------------+-----------+--------+----------+\n",
            "only showing top 20 rows\n",
            "\n",
            "None\n"
          ]
        }
      ],
      "source": [
        "print(spark.sql(f'SELECT * FROM {query_name}').show(20, truncate=True))"
      ]
    },
    {
      "cell_type": "markdown",
      "metadata": {
        "id": "Sud98y0DCiIH"
      },
      "source": [
        "## Specials Query 1"
      ]
    },
    {
      "cell_type": "code",
      "execution_count": 57,
      "metadata": {
        "colab": {
          "base_uri": "https://localhost:8080/"
        },
        "id": "-0xQ2xJFCn9I",
        "outputId": "33cf99df-e57a-4f98-e167-f48fa1b137df"
      },
      "outputs": [
        {
          "name": "stdout",
          "output_type": "stream",
          "text": [
            "+---------+---------------+-----------+\n",
            "|namespace|      tableName|isTemporary|\n",
            "+---------+---------------+-----------+\n",
            "|         |      all_rides|       true|\n",
            "|         |   all_specials|       true|\n",
            "|         |requested_rides|       true|\n",
            "+---------+---------------+-----------+\n",
            "\n"
          ]
        }
      ],
      "source": [
        "# If offset:Latest, send new events after running this cell.\n",
        "query_name='all_specials'\n",
        "query=df_specials.writeStream \\\n",
        "    .outputMode(\"update\") \\\n",
        "    .format(\"memory\") \\\n",
        "    .queryName(query_name) \\\n",
        "    .start()\n",
        "\n",
        "    # If you run this locally and change .format, you can enable checkpointing. THis will allow you to resume in case spark crashes.\n",
        "    # .option(\"checkpointLocation\", \"checkpoint\") \\  # Checkpoint not valid for memory\n",
        "    #.option(\"path\", \"/checkpoint/\") \\\n",
        "\n",
        "spark.sql('show tables').show()"
      ]
    },
    {
      "cell_type": "code",
      "execution_count": 58,
      "metadata": {
        "colab": {
          "base_uri": "https://localhost:8080/"
        },
        "id": "sFUuttLzCxsR",
        "outputId": "d6ee2ce8-b8af-4e0c-daff-33c101670600"
      },
      "outputs": [
        {
          "name": "stdout",
          "output_type": "stream",
          "text": [
            "+----------+--------------------+----------+--------------+---------------+------------------+----------+-------------------+-------------------+-------------------+-------------------+-------------------+-------------------+-------------+---------------+-------------------+\n",
            "|event_type|          event_name|venue_zone|venue_latitude|venue_longitude|     venue_address|venue_city|        event_start|          event_end|     arrivals_start|       arrivals_end|   departures_start|     departures_end|arrival_rides|departure_rides|estimated_attendees|\n",
            "+----------+--------------------+----------+--------------+---------------+------------------+----------+-------------------+-------------------+-------------------+-------------------+-------------------+-------------------+-------------+---------------+-------------------+\n",
            "|   concert|     Concert Event 1|  malasana|       40.4265|        -3.7025|495 Malasana Calle|    Madrid|2025-01-01 19:00:00|2025-01-01 22:00:00|2025-01-01 16:00:00|2025-01-01 19:15:00|2025-01-01 21:30:00|2025-01-02 00:00:00|         2492|           2804|              10204|\n",
            "|   concert|     Concert Event 2|  malasana|       40.4265|        -3.7025|373 Malasana Calle|    Madrid|2025-01-01 19:00:00|2025-01-01 22:00:00|2025-01-01 16:00:00|2025-01-01 19:15:00|2025-01-01 21:30:00|2025-01-02 00:00:00|         2565|           2886|              11507|\n",
            "|    sports|Atlético de Madri...| chamartin|       40.4615|        -3.6766|400 Sports Stadium|    Madrid|2025-01-01 18:00:00|2025-01-01 21:00:00|2025-01-01 16:00:00|2025-01-01 18:15:00|2025-01-01 20:45:00|2025-01-01 22:30:00|         5558|           7146|              36946|\n",
            "+----------+--------------------+----------+--------------+---------------+------------------+----------+-------------------+-------------------+-------------------+-------------------+-------------------+-------------------+-------------+---------------+-------------------+\n",
            "\n",
            "None\n"
          ]
        }
      ],
      "source": [
        "print(spark.sql(f'SELECT * FROM {query_name}').show(20, truncate=True))"
      ]
    },
    {
      "cell_type": "markdown",
      "metadata": {},
      "source": [
        "# Queries Ideas (not run yet, just ideas)"
      ]
    },
    {
      "cell_type": "code",
      "execution_count": null,
      "metadata": {},
      "outputs": [],
      "source": [
        "df_rides.writeStream \\\n",
        "    .outputMode(\"append\") \\\n",
        "    .format(\"memory\") \\\n",
        "    .queryName(\"ride_events_view\") \\\n",
        "    .start()\n",
        "    \n",
        "df_specials.writeStream \\\n",
        "    .outputMode(\"append\") \\\n",
        "    .format(\"memory\") \\\n",
        "    .queryName(\"special_events_view\") \\\n",
        "    .start()\n",
        "    \n",
        "spark.sql('SHOW TABLES').show()"
      ]
    },
    {
      "cell_type": "markdown",
      "metadata": {},
      "source": [
        "### For df_rides"
      ]
    },
    {
      "cell_type": "code",
      "execution_count": null,
      "metadata": {},
      "outputs": [],
      "source": [
        "# 1. Total Ride Requests per Half Hour\n",
        "total_ride_requests_query = spark.sql(\"\"\"\n",
        "SELECT \n",
        "    window(event_time, '60 minutes') AS event_window,\n",
        "    COUNT(*) AS total_ride_requests\n",
        "FROM ride_events_view\n",
        "WHERE event_type = 'RIDE_REQUESTED'\n",
        "GROUP BY window(event_time, '60 minutes')\n",
        "\"\"\")\n",
        "total_ride_requests_query.show()\n",
        "\n",
        "#Monitors demand on a half an hour basis. This KPI is critical to assess how many ride requests are coming in during peak vs. off-peak periods."
      ]
    },
    {
      "cell_type": "code",
      "execution_count": null,
      "metadata": {},
      "outputs": [],
      "source": [
        "# 2. Total Completed Rides per Minute\n",
        "completed_rides_query = spark.sql(\"\"\"\n",
        "SELECT \n",
        "    window(event_time, '1 minute') AS event_window,\n",
        "    COUNT(*) AS total_completed_rides\n",
        "FROM ride_events_view\n",
        "WHERE event_type = 'RIDE_COMPLETED'\n",
        "GROUP BY window(event_time, '1 minute')\n",
        "\"\"\")\n",
        "completed_rides_query.show()\n",
        "\n",
        "#Measures successful ride completions in real time. It helps in tracking operational efficiency and user satisfaction."
      ]
    },
    {
      "cell_type": "code",
      "execution_count": null,
      "metadata": {},
      "outputs": [],
      "source": [
        "# 3. User vs. Driver Cancellation Rates in 5-Minute Windows\n",
        "cancellation_rates_query = spark.sql(\"\"\"\n",
        "SELECT \n",
        "    window(event_time, '5 minutes') AS event_window,\n",
        "    SUM(CASE WHEN event_type = 'RIDE_CANCELED_BY_USER' THEN 1 ELSE 0 END) AS user_cancellations,\n",
        "    SUM(CASE WHEN event_type = 'RIDE_CANCELED_BY_DRIVER' THEN 1 ELSE 0 END) AS driver_cancellations\n",
        "FROM ride_events_view\n",
        "GROUP BY window(event_time, '5 minutes')\n",
        "\"\"\")\n",
        "cancellation_rates_query.show()\n",
        "\n",
        "# Provides insight into cancellation patterns. High cancellation rates may signal issues with driver availability, pricing, or user experience."
      ]
    },
    {
      "cell_type": "code",
      "execution_count": null,
      "metadata": {},
      "outputs": [],
      "source": [
        "# 4. Average Ride Duration for Completed Rides (5-Minute Windows)\n",
        "avg_ride_duration_query = spark.sql(\"\"\"\n",
        "SELECT \n",
        "    window(event_time, '5 minutes') AS event_window,\n",
        "    AVG(ride_details.actual_duration_minutes) AS avg_ride_duration\n",
        "FROM ride_events_view\n",
        "WHERE event_type = 'RIDE_COMPLETED'\n",
        "  AND ride_details.actual_duration_minutes IS NOT NULL\n",
        "GROUP BY window(event_time, '5 minutes')\n",
        "\"\"\")\n",
        "avg_ride_duration_query.show()\n",
        "\n",
        "# Tracks the average time taken to complete a ride. This can help in managing expectations and fine-tuning driver routing and scheduling."
      ]
    },
    {
      "cell_type": "code",
      "execution_count": null,
      "metadata": {},
      "outputs": [],
      "source": [
        "# Query 5: Average Surge Multiplier (5-Minute Windows)\n",
        "query_rides_5 = spark.sql(\"\"\"\n",
        "SELECT \n",
        "    window(event_time, '5 minutes') AS event_window,\n",
        "    AVG(ride_details.surge_multiplier) AS avg_surge_multiplier\n",
        "FROM ride_events_view\n",
        "WHERE ride_details.surge_multiplier IS NOT NULL\n",
        "GROUP BY window(event_time, '5 minutes')\n",
        "\"\"\")\n",
        "print(\"Query 5: Average Surge Multiplier (5-Minute Window)\")\n",
        "query_rides_5.show(truncate=False)\n",
        "\n",
        "#A higher average surge multiplier signals increased demand. This KPI is useful for dynamic pricing adjustments and surge management."
      ]
    },
    {
      "cell_type": "code",
      "execution_count": null,
      "metadata": {},
      "outputs": [],
      "source": [
        "# Query 6: Total Revenue from Completed Rides (5-Minute Windows)\n",
        "query_rides_6 = spark.sql(\"\"\"\n",
        "SELECT \n",
        "    window(event_time, '5 minutes') AS event_window,\n",
        "    SUM(ride_details.total_fare) AS total_revenue\n",
        "FROM ride_events_view\n",
        "WHERE event_type = 'RIDE_COMPLETED'\n",
        "  AND ride_details.total_fare IS NOT NULL\n",
        "GROUP BY window(event_time, '5 minutes')\n",
        "\"\"\")\n",
        "print(\"Query 6: Total Revenue from Completed Rides (5-Minute Window)\")\n",
        "query_rides_6.show(truncate=False)\n",
        "\n",
        "#Aggregates fare amounts to monitor revenue generation over time. It can assist in assessing the financial performance of the service."
      ]
    },
    {
      "cell_type": "code",
      "execution_count": null,
      "metadata": {},
      "outputs": [],
      "source": [
        "# Query 7: Average Driver Response Time (paired events: RIDE_REQUESTED to DRIVER_ASSIGNED)\n",
        "query_rides_7 = spark.sql(\"\"\"\n",
        "SELECT \n",
        "    AVG(response_time) AS avg_driver_response_time\n",
        "FROM (\n",
        "  SELECT \n",
        "      r.ride_id,\n",
        "      UNIX_TIMESTAMP(d.event_time) - UNIX_TIMESTAMP(r.event_time) AS response_time\n",
        "  FROM ride_events_view r\n",
        "  JOIN ride_events_view d \n",
        "    ON r.ride_id = d.ride_id\n",
        "  WHERE r.event_type = 'RIDE_REQUESTED'\n",
        "    AND d.event_type = 'DRIVER_ASSIGNED'\n",
        ") AS subquery\n",
        "\"\"\")\n",
        "print(\"Query 7: Average Driver Response Time\")\n",
        "query_rides_7.show(truncate=False)\n",
        "\n",
        "#Evaluates the efficiency of matching drivers to ride requests, which is key to reducing customer wait times and improving service quality."
      ]
    },
    {
      "cell_type": "code",
      "execution_count": null,
      "metadata": {},
      "outputs": [],
      "source": [
        "# Query 8: Average Payment Processing Delay (paired events: RIDE_STARTED to PAYMENT_COMPLETED)\n",
        "query_rides_8 = spark.sql(\"\"\"\n",
        "SELECT \n",
        "    AVG(payment_delay) AS avg_payment_processing_time\n",
        "FROM (\n",
        "  SELECT \n",
        "      r.ride_id,\n",
        "      UNIX_TIMESTAMP(p.event_time) - UNIX_TIMESTAMP(r.event_time) AS payment_delay\n",
        "  FROM ride_events_view r\n",
        "  JOIN ride_events_view p \n",
        "    ON r.ride_id = p.ride_id\n",
        "  WHERE r.event_type = 'RIDE_STARTED'\n",
        "    AND p.event_type = 'PAYMENT_COMPLETED'\n",
        ") AS subquery\n",
        "\"\"\")\n",
        "print(\"Query 8: Average Payment Processing Delay\")\n",
        "query_rides_8.show(truncate=False)\n",
        "\n",
        "#Measures the efficiency of the payment process. This helps in identifying delays that might affect the overall customer experience."
      ]
    },
    {
      "cell_type": "code",
      "execution_count": null,
      "metadata": {},
      "outputs": [],
      "source": [
        "# Query 9: Average User and Driver Ratings (5-Minute Windows)\n",
        "query_rides_9 = spark.sql(\"\"\"\n",
        "SELECT \n",
        "    window(event_time, '5 minutes') AS event_window,\n",
        "    AVG(CAST(ratings.user_to_driver_rating AS DOUBLE)) AS avg_user_to_driver_rating,\n",
        "    AVG(CAST(ratings.driver_to_user_rating AS DOUBLE)) AS avg_driver_to_user_rating\n",
        "FROM ride_events_view\n",
        "WHERE ratings IS NOT NULL\n",
        "  AND event_type IN ('USER_RATED_DRIVER', 'DRIVER_RATED_USER')\n",
        "GROUP BY window(event_time, '5 minutes')\n",
        "\"\"\")\n",
        "print(\"Query 9: Average Ratings (5-Minute Window)\")\n",
        "query_rides_9.show(truncate=False)\n",
        "\n",
        "# Tracks service quality metrics by aggregating user and driver ratings. Consistent monitoring of ratings can prompt timely responses to quality issues."
      ]
    },
    {
      "cell_type": "code",
      "execution_count": null,
      "metadata": {},
      "outputs": [],
      "source": [
        "# Hopping Window Query 3: Average Total Fare from Completed Rides using a 5-minute window with a 1-minute hop\n",
        "query_hopping_3 = spark.sql(\"\"\"\n",
        "SELECT \n",
        "    window(event_time, '5 minutes', '1 minute') AS event_window,\n",
        "    AVG(ride_details.total_fare) AS avg_total_fare\n",
        "FROM ride_events_view\n",
        "WHERE event_type = 'RIDE_COMPLETED'\n",
        "  AND ride_details.total_fare IS NOT NULL\n",
        "GROUP BY window(event_time, '5 minutes', '1 minute')\n",
        "\"\"\")\n",
        "print(\"Hopping Window Query 3: Average Total Fare (5-min window, 1-min hop)\")\n",
        "query_hopping_3.show(truncate=False)\n"
      ]
    },
    {
      "cell_type": "code",
      "execution_count": null,
      "metadata": {},
      "outputs": [],
      "source": [
        "# Session Window Query 1: Group ride events into sessions for each ride_id.\n",
        "# This query groups events that are part of a continuous session (with gaps no larger than 2 minutes) for each ride.\n",
        "query_session_1 = spark.sql(\"\"\"\n",
        "SELECT \n",
        "    session_window(event_time, '2 minutes') AS ride_session,\n",
        "    ride_id,\n",
        "    COUNT(*) AS events_in_session\n",
        "FROM ride_events_view\n",
        "GROUP BY session_window(event_time, '2 minutes'), ride_id\n",
        "\"\"\")\n",
        "print(\"Session Window Query 1: Ride events per ride session (gap = 2 minutes)\")\n",
        "query_session_1.show(truncate=False)\n"
      ]
    },
    {
      "cell_type": "code",
      "execution_count": null,
      "metadata": {},
      "outputs": [],
      "source": [
        "# Session Window Query 2: Group ride events into sessions per user. \n",
        "# This groups events for each user where the inactivity gap is less than 3 minutes.\n",
        "query_session_2 = spark.sql(\"\"\"\n",
        "SELECT \n",
        "    session_window(event_time, '3 minutes') AS user_session,\n",
        "    user_id,\n",
        "    COUNT(*) AS user_events\n",
        "FROM ride_events_view\n",
        "GROUP BY session_window(event_time, '3 minutes'), user_id\n",
        "\"\"\")\n",
        "print(\"Session Window Query 2: Ride events per user session (gap = 3 minutes)\")\n",
        "query_session_2.show(truncate=False)"
      ]
    },
    {
      "cell_type": "markdown",
      "metadata": {},
      "source": [
        "### For df_specials"
      ]
    },
    {
      "cell_type": "code",
      "execution_count": null,
      "metadata": {},
      "outputs": [],
      "source": [
        "# Query 1: Count of Active Special Events\n",
        "query_specials_1 = spark.sql(\"\"\"\n",
        "SELECT \n",
        "    COUNT(*) AS active_events\n",
        "FROM special_events_view\n",
        "WHERE current_timestamp() BETWEEN to_timestamp(arrivals_start) AND to_timestamp(departures_end)\n",
        "\"\"\")\n",
        "print(\"Special Query 1: Count of Active Special Events\")\n",
        "query_specials_1.show(truncate=False)\n",
        "\n",
        "# Provides a real-time count of events in progress or affecting the ride demand. Useful to correlate spikes in ride requests with external events."
      ]
    },
    {
      "cell_type": "code",
      "execution_count": null,
      "metadata": {},
      "outputs": [],
      "source": [
        "# Query 2: Upcoming Events Starting in the Next Hour\n",
        "query_specials_2 = spark.sql(\"\"\"\n",
        "SELECT \n",
        "    name, event_start, venue_zone\n",
        "FROM special_events_view\n",
        "WHERE to_timestamp(event_start) BETWEEN current_timestamp() AND (current_timestamp() + interval 1 hour)\n",
        "\"\"\")\n",
        "print(\"Special Query 2: Upcoming Events Starting in the Next Hour\")\n",
        "query_specials_2.show(truncate=False)\n",
        "\n",
        "# Identifies upcoming events that may influence surge pricing or increased demand, so the service can prepare accordingly."
      ]
    },
    {
      "cell_type": "code",
      "execution_count": null,
      "metadata": {},
      "outputs": [],
      "source": [
        "# Query 3: Events Ending Soon (Next Hour)\n",
        "query_specials_3 = spark.sql(\"\"\"\n",
        "SELECT \n",
        "    name, event_end, venue_zone\n",
        "FROM special_events_view\n",
        "WHERE to_timestamp(event_end) BETWEEN current_timestamp() AND (current_timestamp() + interval 1 hour)\n",
        "\"\"\")\n",
        "print(\"Special Query 3: Events Ending in the Next Hour\")\n",
        "query_specials_3.show(truncate=False)\n",
        "\n",
        "#Tracks events that are about to conclude. This can signal a drop in demand post-event and help in adjusting driver allocation."
      ]
    },
    {
      "cell_type": "code",
      "execution_count": null,
      "metadata": {},
      "outputs": [],
      "source": [
        "# Query 4: Arrival vs. Departure Rides by Event\n",
        "query_specials_4 = spark.sql(\"\"\"\n",
        "SELECT \n",
        "    name,\n",
        "    arrival_rides,\n",
        "    departure_rides\n",
        "FROM special_events_view\n",
        "\"\"\")\n",
        "print(\"Special Query 4: Arrival vs. Departure Rides by Event\")\n",
        "query_specials_4.show(truncate=False)\n",
        "\n",
        "#Compares the demand for rides arriving at and departing from event venues. It assists in planning surge pricing and resource allocation at event locations.\n"
      ]
    },
    {
      "cell_type": "code",
      "execution_count": null,
      "metadata": {},
      "outputs": [],
      "source": [
        "# Query 5: Average Estimated Attendees by Venue Zone\n",
        "query_specials_5 = spark.sql(\"\"\"\n",
        "SELECT \n",
        "    venue_zone,\n",
        "    AVG(estimated_attendees) AS avg_estimated_attendees\n",
        "FROM special_events_view\n",
        "GROUP BY venue_zone\n",
        "\"\"\")\n",
        "print(\"Special Query 5: Average Estimated Attendees by Venue Zone\")\n",
        "query_specials_5.show(truncate=False)\n",
        "\n",
        "#Provides insight into the size of events by area, helping to predict and manage ride demand geographically."
      ]
    },
    {
      "cell_type": "code",
      "execution_count": null,
      "metadata": {},
      "outputs": [],
      "source": [
        "# Query 6: Event Attendance Conversion Ratio\n",
        "query_specials_6 = spark.sql(\"\"\"\n",
        "SELECT \n",
        "    name,\n",
        "    (arrival_rides * 1.0 / estimated_attendees) AS arrival_conversion_ratio\n",
        "FROM special_events_view\n",
        "WHERE estimated_attendees > 0\n",
        "\"\"\")\n",
        "print(\"Special Query 6: Event Attendance Conversion Ratio\")\n",
        "query_specials_6.show(truncate=False)\n",
        "\n",
        "# Measures the effectiveness of ride-hailing in converting event attendees into actual rides. A low conversion ratio might indicate a need for better event-based promotions or logistical improvements."
      ]
    },
    {
      "cell_type": "code",
      "execution_count": null,
      "metadata": {},
      "outputs": [],
      "source": [
        "# Query 7: Distribution of Special Events by Type\n",
        "query_specials_7 = spark.sql(\"\"\"\n",
        "SELECT \n",
        "    type, COUNT(*) AS event_count\n",
        "FROM special_events_view\n",
        "GROUP BY type\n",
        "\"\"\")\n",
        "print(\"Special Query 7: Distribution of Special Events by Type\")\n",
        "query_specials_7.show(truncate=False)\n",
        "\n",
        "#Shows which types of events (e.g., concerts, sports, weather events) are most common, enabling targeted operational strategies and marketing efforts."
      ]
    },
    {
      "cell_type": "code",
      "execution_count": null,
      "metadata": {},
      "outputs": [],
      "source": [
        "# Query 8: Average Duration of Events by Type\n",
        "query_specials_8 = spark.sql(\"\"\"\n",
        "SELECT \n",
        "    type,\n",
        "    AVG(UNIX_TIMESTAMP(event_end) - UNIX_TIMESTAMP(event_start)) AS avg_event_duration_seconds\n",
        "FROM special_events_view\n",
        "GROUP BY type\n",
        "\"\"\")\n",
        "print(\"Special Query 8: Average Duration of Events by Type\")\n",
        "query_specials_8.show(truncate=False)\n",
        "\n",
        "#Helps in understanding event lengths, which can be correlated with sustained or transient demand patterns. Longer events might mean extended periods of high demand.\n"
      ]
    },
    {
      "cell_type": "code",
      "execution_count": null,
      "metadata": {},
      "outputs": [],
      "source": [
        "# Query 10: Event Timeline Overview\n",
        "query_specials_10 = spark.sql(\"\"\"\n",
        "SELECT \n",
        "    name,\n",
        "    to_timestamp(arrivals_start) AS arrivals_start_ts,\n",
        "    to_timestamp(arrivals_end) AS arrivals_end_ts,\n",
        "    to_timestamp(departures_start) AS departures_start_ts,\n",
        "    to_timestamp(departures_end) AS departures_end_ts\n",
        "FROM special_events_view\n",
        "ORDER BY arrivals_start_ts\n",
        "\"\"\")\n",
        "print(\"Special Query 10: Event Timeline Overview\")\n",
        "query_specials_10.show(truncate=False)\n",
        "\n",
        "# Displays a timeline of when events expect attendees to arrive and depart. This timeline can be integrated into dashboards to help drivers and operations teams plan for shifting demand."
      ]
    },
    {
      "cell_type": "markdown",
      "metadata": {},
      "source": []
    },
    {
      "cell_type": "markdown",
      "metadata": {
        "id": "C_Z4WDkT59F-"
      },
      "source": [
        "# Kafka topic to Parquet files (untested by me)"
      ]
    },
    {
      "cell_type": "code",
      "execution_count": null,
      "metadata": {
        "id": "kuEXTnWwDfr3"
      },
      "outputs": [],
      "source": [
        "!mkdir output"
      ]
    },
    {
      "cell_type": "code",
      "execution_count": null,
      "metadata": {
        "id": "AVNUQZeKDVyA"
      },
      "outputs": [],
      "source": [
        "query_name='parquet'\n",
        "query_parquet = df.writeStream \\\n",
        "        .format(\"parquet\") \\\n",
        "        .option(\"checkpointLocation\",\"checkpoint2\") \\\n",
        "        .option(\"path\", \"output\") \\\n",
        "        .queryName(query_name) \\\n",
        "        .trigger(processingTime='20 seconds') \\\n",
        "        .start()"
      ]
    },
    {
      "cell_type": "code",
      "execution_count": null,
      "metadata": {
        "colab": {
          "base_uri": "https://localhost:8080/"
        },
        "id": "xHljZqEeFMP3",
        "outputId": "cd5e9287-a767-4ee3-adf6-c103ec0646a6"
      },
      "outputs": [
        {
          "name": "stdout",
          "output_type": "stream",
          "text": [
            "total 20\n",
            "-rw-r--r-- 1 root root 3673 Apr  4 06:09 part-00001-b5877284-6f84-4bbf-946f-ecb7d64b55f2-c000.snappy.parquet\n",
            "-rw-r--r-- 1 root root 3520 Apr  4 06:09 part-00000-fa2a485a-e63e-4524-8c5e-763ae433bd9f-c000.snappy.parquet\n",
            "-rw-r--r-- 1 root root 3590 Apr  4 06:09 part-00002-eebac414-979f-475f-a721-f160b8fb19e3-c000.snappy.parquet\n",
            "-rw-r--r-- 1 root root 3499 Apr  4 06:09 part-00003-0823ed66-a984-4a57-b6c8-c711493a1dd7-c000.snappy.parquet\n",
            "drwxr-xr-x 2 root root 4096 Apr  4 06:09 _spark_metadata\n",
            "-rw-r--r-- 1 root root    0 Apr  4 06:09 part-00000-a219f6b4-632b-4a6a-bf57-d084ea44a4e9-c000.snappy.parquet\n"
          ]
        }
      ],
      "source": [
        "# Wait a few seconds for parquet files to build up\n",
        "!sleep 20\n",
        "!ls -lrt output |head -20"
      ]
    },
    {
      "cell_type": "markdown",
      "metadata": {
        "id": "BXDP4mRF1Ngt"
      },
      "source": [
        "# Stop your queries and your spark job"
      ]
    },
    {
      "cell_type": "code",
      "execution_count": 59,
      "metadata": {
        "colab": {
          "base_uri": "https://localhost:8080/"
        },
        "id": "3EZ5N_SnhqDk",
        "outputId": "df780c8c-2224-4822-d3bd-2e37e6ff91cf"
      },
      "outputs": [
        {
          "name": "stdout",
          "output_type": "stream",
          "text": [
            "Query Name: all_rides\n",
            "Query ID: 4472b2ca-14cd-44ed-95da-aaa01add810f\n",
            "Query Status: {'message': 'Stopped', 'isDataAvailable': False, 'isTriggerActive': False}\n",
            "Is Query Active: False\n",
            "--------------------------------------------------\n",
            "Query Name: requested_rides\n",
            "Query ID: b9b1c64f-5561-48aa-b458-4e6dade81ff5\n",
            "Query Status: {'message': 'Stopped', 'isDataAvailable': False, 'isTriggerActive': False}\n",
            "Is Query Active: False\n",
            "--------------------------------------------------\n",
            "Query Name: all_specials\n",
            "Query ID: a77c6a13-a25b-4d13-a2d6-ef791906a1ec\n",
            "Query Status: {'message': 'Stopped', 'isDataAvailable': False, 'isTriggerActive': False}\n",
            "Is Query Active: False\n",
            "--------------------------------------------------\n"
          ]
        }
      ],
      "source": [
        "# Set to True and run cell when you want to stop your queries and Spark job.\n",
        "if True:\n",
        "  # Get the list of active streaming queries\n",
        "  active_queries = spark.streams.active\n",
        "\n",
        "# Print details about each active query\n",
        "  for query in active_queries:\n",
        "      query.stop()\n",
        "      print(f\"Query Name: {query.name}\")\n",
        "      print(f\"Query ID: {query.id}\")\n",
        "      print(f\"Query Status: {query.status}\")\n",
        "      print(f\"Is Query Active: {query.isActive}\")\n",
        "      print(\"-\" * 50)\n",
        "  spark.stop()\n",
        "  spark.sparkContext.stop()"
      ]
    },
    {
      "cell_type": "code",
      "execution_count": null,
      "metadata": {
        "id": "XxMHbvDe4KG3"
      },
      "outputs": [],
      "source": []
    }
  ],
  "metadata": {
    "colab": {
      "provenance": []
    },
    "kernelspec": {
      "display_name": "Python 3",
      "name": "python3"
    },
    "language_info": {
      "name": "python"
    }
  },
  "nbformat": 4,
  "nbformat_minor": 0
}
